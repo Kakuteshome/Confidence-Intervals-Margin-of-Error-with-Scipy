{
 "cells": [
  {
   "cell_type": "code",
   "execution_count": 2,
   "metadata": {},
   "outputs": [],
   "source": [
    "import pandas as pd\n",
    "import numpy as np\n",
    "import scipy.stats as stats\n",
    "import matplotlib.pyplot as plt\n",
    "import math\n",
    "import pytesseract\n",
    "import cv2\n",
    "import itertools"
   ]
  },
  {
   "cell_type": "code",
   "execution_count": 3,
   "metadata": {},
   "outputs": [],
   "source": [
    "p=420/1400\n",
    "confidence=0.99\n",
    "n=1400"
   ]
  },
  {
   "cell_type": "code",
   "execution_count": 4,
   "metadata": {},
   "outputs": [
    {
     "data": {
      "text/plain": [
       "(0.26845266270898316, 0.3315473372910168)"
      ]
     },
     "execution_count": 4,
     "metadata": {},
     "output_type": "execute_result"
    }
   ],
   "source": [
    "stats.norm.interval(confidence=confidence,    # Confidence level             \n",
    "                   loc = p,     # Point estimate of proportion\n",
    "                   scale = math.sqrt((p*(1-p))/n))  # Scaling factor\n"
   ]
  },
  {
   "cell_type": "markdown",
   "metadata": {},
   "source": [
    "#Q19"
   ]
  },
  {
   "cell_type": "code",
   "execution_count": 5,
   "metadata": {},
   "outputs": [],
   "source": [
    "p=80/100\n",
    "confidence=0.95\n",
    "n=100"
   ]
  },
  {
   "cell_type": "code",
   "execution_count": 6,
   "metadata": {},
   "outputs": [
    {
     "data": {
      "text/plain": [
       "(0.7216014406183979, 0.8783985593816022)"
      ]
     },
     "execution_count": 6,
     "metadata": {},
     "output_type": "execute_result"
    }
   ],
   "source": [
    "stats.norm.interval(confidence=confidence,    # Confidence level             \n",
    "                   loc = p,     # Point estimate of proportion\n",
    "                   scale = math.sqrt((p*(1-p))/n))  # Scaling factor\n"
   ]
  },
  {
   "cell_type": "markdown",
   "metadata": {},
   "source": [
    "#Q20"
   ]
  },
  {
   "cell_type": "code",
   "execution_count": 7,
   "metadata": {},
   "outputs": [],
   "source": [
    "p=300/400\n",
    "confidence=0.99\n",
    "n=400"
   ]
  },
  {
   "cell_type": "code",
   "execution_count": 8,
   "metadata": {},
   "outputs": [
    {
     "data": {
      "text/plain": [
       "(0.6942316596828568, 0.8057683403171432)"
      ]
     },
     "execution_count": 8,
     "metadata": {},
     "output_type": "execute_result"
    }
   ],
   "source": [
    "stats.norm.interval(confidence=confidence,    # Confidence level             \n",
    "                   loc = p,     # Point estimate of proportion\n",
    "                   scale = math.sqrt((p*(1-p))/n))  # Scaling factor\n"
   ]
  },
  {
   "cell_type": "markdown",
   "metadata": {},
   "source": [
    "#Q21"
   ]
  },
  {
   "cell_type": "code",
   "execution_count": 9,
   "metadata": {},
   "outputs": [],
   "source": [
    "p=250/400\n",
    "confidence=0.95\n",
    "n=400"
   ]
  },
  {
   "cell_type": "code",
   "execution_count": 10,
   "metadata": {},
   "outputs": [
    {
     "data": {
      "text/plain": [
       "(0.5775568258044378, 0.6724431741955622)"
      ]
     },
     "execution_count": 10,
     "metadata": {},
     "output_type": "execute_result"
    }
   ],
   "source": [
    "stats.norm.interval(confidence=confidence,    # Confidence level             \n",
    "                   loc = p,     # Point estimate of proportion\n",
    "                   scale = math.sqrt((p*(1-p))/n))  # Scaling factor\n"
   ]
  },
  {
   "cell_type": "markdown",
   "metadata": {},
   "source": [
    "#Q22"
   ]
  },
  {
   "cell_type": "code",
   "execution_count": 11,
   "metadata": {},
   "outputs": [],
   "source": [
    "p=30/250\n",
    "confidence=0.95\n",
    "n=250"
   ]
  },
  {
   "cell_type": "code",
   "execution_count": 12,
   "metadata": {},
   "outputs": [
    {
     "data": {
      "text/plain": [
       "(0.07971809083644124, 0.16028190916355875)"
      ]
     },
     "execution_count": 12,
     "metadata": {},
     "output_type": "execute_result"
    }
   ],
   "source": [
    "stats.norm.interval(confidence=confidence,    # Confidence level             \n",
    "                   loc = p,     # Point estimate of proportion\n",
    "                   scale = math.sqrt((p*(1-p))/n))  # Scaling factor\n"
   ]
  },
  {
   "cell_type": "code",
   "execution_count": 13,
   "metadata": {},
   "outputs": [],
   "source": [
    "p=15/40\n",
    "confidence=0.95\n",
    "N=250\n",
    "n=40\n",
    "correrction_factor = np.sqrt(250-40)/np.sqrt(250-1)"
   ]
  },
  {
   "cell_type": "code",
   "execution_count": 14,
   "metadata": {},
   "outputs": [
    {
     "name": "stdout",
     "output_type": "stream",
     "text": [
      "(0.23722078319486045, 0.5127792168051395)\n"
     ]
    }
   ],
   "source": [
    "z = stats.norm.ppf(confidence + (1-confidence)/2)\n",
    "moe = z*np.sqrt(p*(1-p)/n)*correrction_factor\n",
    "print((p-moe,p+moe))"
   ]
  },
  {
   "cell_type": "markdown",
   "metadata": {},
   "source": [
    "#Q23"
   ]
  },
  {
   "cell_type": "code",
   "execution_count": 15,
   "metadata": {},
   "outputs": [],
   "source": [
    "N=300\n",
    "n=36\n",
    "std=5\n",
    "confidence=0.95\n",
    "correrction_factor=np.sqrt(N-n)/np.sqrt(N-1)"
   ]
  },
  {
   "cell_type": "code",
   "execution_count": 16,
   "metadata": {},
   "outputs": [
    {
     "name": "stdout",
     "output_type": "stream",
     "text": [
      "(33.31878275051211, 36.68121724948789)\n"
     ]
    }
   ],
   "source": [
    "z = stats.norm.ppf(confidence + (1-confidence)/2)\n",
    "moe = z*np.sqrt(std/np.sqrt(36))*correrction_factor\n",
    "print((35-moe,35+moe))"
   ]
  },
  {
   "cell_type": "markdown",
   "metadata": {},
   "source": [
    "#Q24"
   ]
  },
  {
   "cell_type": "code",
   "execution_count": 17,
   "metadata": {},
   "outputs": [],
   "source": [
    "N=500\n",
    "n=49\n",
    "std=9\n",
    "confidence=0.99\n",
    "correrction_factor=np.sqrt(N-n)/np.sqrt(N-1)"
   ]
  },
  {
   "cell_type": "code",
   "execution_count": 18,
   "metadata": {},
   "outputs": [
    {
     "name": "stdout",
     "output_type": "stream",
     "text": [
      "(36.85153008973668, 43.14846991026332)\n"
     ]
    }
   ],
   "source": [
    "z = stats.norm.ppf(confidence + (1-confidence)/2)\n",
    "moe = z*(std/np.sqrt(n))*correrction_factor\n",
    "print((40-moe,40+moe))"
   ]
  },
  {
   "cell_type": "markdown",
   "metadata": {},
   "source": [
    "#Q25"
   ]
  },
  {
   "cell_type": "code",
   "execution_count": 19,
   "metadata": {},
   "outputs": [
    {
     "name": "stdout",
     "output_type": "stream",
     "text": [
      "(3.0694115370586585, 3.410588462941342)\n"
     ]
    }
   ],
   "source": [
    "N=400\n",
    "n=50\n",
    "std=0.5\n",
    "confidence=0.99\n",
    "correrction_factor=np.sqrt(N-n)/np.sqrt(N-1)\n",
    "z = stats.norm.ppf(confidence + (1-confidence)/2)\n",
    "moe = z*(std/np.sqrt(n))*correrction_factor\n",
    "print((3.24-moe,3.24+moe))"
   ]
  },
  {
   "cell_type": "markdown",
   "metadata": {},
   "source": [
    "#Q26"
   ]
  },
  {
   "cell_type": "code",
   "execution_count": 20,
   "metadata": {},
   "outputs": [],
   "source": [
    "N=300\n",
    "n=30\n",
    "p=18/30\n",
    "confidence=0.95\n",
    "correrction_factor=np.sqrt(N-n)/np.sqrt(N-1)"
   ]
  },
  {
   "cell_type": "code",
   "execution_count": 21,
   "metadata": {},
   "outputs": [
    {
     "name": "stdout",
     "output_type": "stream",
     "text": [
      "(0.433413665430759, 0.766586334569241)\n"
     ]
    }
   ],
   "source": [
    "z = stats.norm.ppf(confidence + (1-confidence)/2)\n",
    "moe = z*np.sqrt(p*(1-p)/n)*correrction_factor\n",
    "print((p-moe,p+moe))"
   ]
  },
  {
   "cell_type": "code",
   "execution_count": 22,
   "metadata": {},
   "outputs": [
    {
     "name": "stdout",
     "output_type": "stream",
     "text": [
      "207.0\n"
     ]
    }
   ],
   "source": [
    "confidence = 0.99\n",
    "e=0.05\n",
    "s=0.279\n",
    "n=(stats.norm.ppf(confidence+(1-confidence)/2)*s/e)**2\n",
    "print(np.ceil(n))"
   ]
  },
  {
   "cell_type": "markdown",
   "metadata": {},
   "source": [
    "#Q27"
   ]
  },
  {
   "cell_type": "code",
   "execution_count": 23,
   "metadata": {},
   "outputs": [
    {
     "name": "stdout",
     "output_type": "stream",
     "text": [
      "97.0\n"
     ]
    }
   ],
   "source": [
    "confidence = 0.95\n",
    "e=2\n",
    "s=10\n",
    "n=(stats.norm.ppf(confidence+(1-confidence)/2)*s/e)**2\n",
    "print(np.ceil(n))"
   ]
  },
  {
   "cell_type": "markdown",
   "metadata": {},
   "source": [
    "#Q28"
   ]
  },
  {
   "cell_type": "code",
   "execution_count": 24,
   "metadata": {},
   "outputs": [
    {
     "name": "stdout",
     "output_type": "stream",
     "text": [
      "60.0\n"
     ]
    }
   ],
   "source": [
    "confidence = 0.99\n",
    "e=5\n",
    "s=15\n",
    "n=(stats.norm.ppf(confidence+(1-confidence)/2)*s/e)**2\n",
    "print(np.ceil(n))"
   ]
  },
  {
   "cell_type": "markdown",
   "metadata": {},
   "source": [
    "#Q29"
   ]
  },
  {
   "cell_type": "code",
   "execution_count": 25,
   "metadata": {},
   "outputs": [
    {
     "name": "stdout",
     "output_type": "stream",
     "text": [
      "554.0\n"
     ]
    }
   ],
   "source": [
    "confidence = 0.95\n",
    "e=0.25\n",
    "s=3\n",
    "n=(stats.norm.ppf(confidence+(1-confidence)/2)*s/e)**2\n",
    "print(np.ceil(n))"
   ]
  },
  {
   "cell_type": "markdown",
   "metadata": {},
   "source": [
    "#Q30"
   ]
  },
  {
   "cell_type": "code",
   "execution_count": 26,
   "metadata": {},
   "outputs": [
    {
     "name": "stdout",
     "output_type": "stream",
     "text": [
      "25.0\n"
     ]
    }
   ],
   "source": [
    "confidence = 0.95\n",
    "e=0.2\n",
    "s=0.5\n",
    "n=(stats.norm.ppf(confidence+(1-confidence)/2)*s/e)**2\n",
    "print(np.ceil(n))"
   ]
  },
  {
   "cell_type": "code",
   "execution_count": 27,
   "metadata": {},
   "outputs": [
    {
     "data": {
      "text/plain": [
       "1536.5835282776502"
      ]
     },
     "execution_count": 27,
     "metadata": {},
     "output_type": "execute_result"
    }
   ],
   "source": [
    "0.2*0.8*(stats.norm.ppf(confidence+(1-confidence)/2)/0.02)**2"
   ]
  },
  {
   "cell_type": "markdown",
   "metadata": {},
   "source": [
    "#Q31"
   ]
  },
  {
   "cell_type": "code",
   "execution_count": 28,
   "metadata": {},
   "outputs": [
    {
     "name": "stdout",
     "output_type": "stream",
     "text": [
      "196.0\n"
     ]
    }
   ],
   "source": [
    "confidence = 0.95\n",
    "e=0.05\n",
    "p=0.15\n",
    "n=p*(1-p)*(stats.norm.ppf(confidence+(1-confidence)/2)/e)**2\n",
    "print(np.ceil(n))"
   ]
  },
  {
   "cell_type": "markdown",
   "metadata": {},
   "source": [
    "#Q32"
   ]
  },
  {
   "cell_type": "code",
   "execution_count": 29,
   "metadata": {},
   "outputs": [
    {
     "name": "stdout",
     "output_type": "stream",
     "text": [
      "165.0\n"
     ]
    }
   ],
   "source": [
    "confidence = 0.99\n",
    "e=0.1\n",
    "p=0.45\n",
    "n=p*(1-p)*(stats.norm.ppf(confidence+(1-confidence)/2)/e)**2\n",
    "print(np.ceil(n))"
   ]
  },
  {
   "cell_type": "markdown",
   "metadata": {},
   "source": [
    "#Q33"
   ]
  },
  {
   "cell_type": "code",
   "execution_count": 30,
   "metadata": {},
   "outputs": [
    {
     "name": "stdout",
     "output_type": "stream",
     "text": [
      "577.0\n"
     ]
    }
   ],
   "source": [
    "confidence = 0.95\n",
    "e=0.04\n",
    "p=0.6\n",
    "n=p*(1-p)*(stats.norm.ppf(confidence+(1-confidence)/2)/e)**2\n",
    "print(np.ceil(n))"
   ]
  },
  {
   "cell_type": "code",
   "execution_count": 31,
   "metadata": {},
   "outputs": [
    {
     "name": "stdout",
     "output_type": "stream",
     "text": [
      "601.0\n"
     ]
    }
   ],
   "source": [
    "confidence = 0.95\n",
    "e=0.04\n",
    "p=0.5\n",
    "n=p*(1-p)*(stats.norm.ppf(confidence+(1-confidence)/2)/e)**2\n",
    "print(np.ceil(n))"
   ]
  },
  {
   "cell_type": "markdown",
   "metadata": {},
   "source": [
    "#Q34"
   ]
  },
  {
   "cell_type": "code",
   "execution_count": 32,
   "metadata": {},
   "outputs": [
    {
     "name": "stdout",
     "output_type": "stream",
     "text": [
      "632.0\n"
     ]
    }
   ],
   "source": [
    "confidence = 0.9\n",
    "e=0.03\n",
    "p=0.3\n",
    "n=p*(1-p)*(stats.norm.ppf(confidence+(1-confidence)/2)/e)**2\n",
    "print(np.ceil(n))"
   ]
  },
  {
   "cell_type": "markdown",
   "metadata": {},
   "source": [
    "#Q41"
   ]
  },
  {
   "cell_type": "code",
   "execution_count": 33,
   "metadata": {},
   "outputs": [],
   "source": [
    "path = 'C:\\\\Users\\\\kakut\\\\OneDrive\\\\Desktop\\\\ocr images\\\\'\n",
    "image_file = f'{path}photo_2024-03-02_16-54-00.jpg'\n",
    "img = cv2.imread(image_file)\n"
   ]
  },
  {
   "cell_type": "markdown",
   "metadata": {},
   "source": [
    "#Graying of the jpg file"
   ]
  },
  {
   "cell_type": "code",
   "execution_count": 34,
   "metadata": {},
   "outputs": [
    {
     "data": {
      "text/plain": [
       "True"
      ]
     },
     "execution_count": 34,
     "metadata": {},
     "output_type": "execute_result"
    }
   ],
   "source": [
    "gray = cv2.cvtColor(img, cv2.COLOR_BGR2GRAY)\n",
    "cv2.imwrite(f\"{path}\\\\temp\\\\index_gray.png\", gray)"
   ]
  },
  {
   "cell_type": "markdown",
   "metadata": {},
   "source": [
    "#converting the pixels using the binary thresh"
   ]
  },
  {
   "cell_type": "code",
   "execution_count": 35,
   "metadata": {},
   "outputs": [
    {
     "data": {
      "text/plain": [
       "True"
      ]
     },
     "execution_count": 35,
     "metadata": {},
     "output_type": "execute_result"
    }
   ],
   "source": [
    "_, thresh = cv2.threshold(gray, 100, 255, cv2.THRESH_BINARY_INV)\n",
    "cv2.imwrite(f\"{path}\\\\temp\\\\index_thresh.png\", thresh)"
   ]
  },
  {
   "cell_type": "markdown",
   "metadata": {},
   "source": [
    "#Dilating the characters to aid in drawing bounding boxes around regions of interest"
   ]
  },
  {
   "cell_type": "code",
   "execution_count": 36,
   "metadata": {},
   "outputs": [
    {
     "data": {
      "text/plain": [
       "True"
      ]
     },
     "execution_count": 36,
     "metadata": {},
     "output_type": "execute_result"
    }
   ],
   "source": [
    "kernel = cv2.getStructuringElement(cv2.MORPH_RECT, (5,5))\n",
    "dilated = cv2.dilate(thresh, kernel, iterations=5)\n",
    "cv2.imwrite(f\"{path}\\\\temp\\\\index_dilated.png\", dilated)"
   ]
  },
  {
   "cell_type": "markdown",
   "metadata": {},
   "source": [
    "#Eroding away trailing pixels around the corners of the page"
   ]
  },
  {
   "cell_type": "code",
   "execution_count": 37,
   "metadata": {},
   "outputs": [
    {
     "data": {
      "text/plain": [
       "True"
      ]
     },
     "execution_count": 37,
     "metadata": {},
     "output_type": "execute_result"
    }
   ],
   "source": [
    "eroded = cv2.erode(dilated, kernel, iterations=1)\n",
    "cv2.imwrite(f\"{path}\\\\temp\\\\index_eroded.png\", eroded)"
   ]
  },
  {
   "cell_type": "code",
   "execution_count": 38,
   "metadata": {},
   "outputs": [],
   "source": [
    "cnts = cv2.findContours(eroded, cv2.RETR_EXTERNAL, cv2.CHAIN_APPROX_SIMPLE)\n",
    "cnts = cnts[0] if len(cnts) == 2 else cnts[1]\n",
    "cnts = sorted(cnts, key=lambda x: cv2.boundingRect(x)[0])"
   ]
  },
  {
   "cell_type": "code",
   "execution_count": 39,
   "metadata": {},
   "outputs": [
    {
     "data": {
      "text/plain": [
       "True"
      ]
     },
     "execution_count": 39,
     "metadata": {},
     "output_type": "execute_result"
    }
   ],
   "source": [
    "results  = []\n",
    "rois = []\n",
    "for c in cnts:\n",
    "    x, y, w, h = cv2.boundingRect(c)\n",
    "    if h > 200 and w > 20:\n",
    "        roi = img[y:y+h, x:x+w]\n",
    "        rois.append(roi)\n",
    "        cv2.rectangle(img, (x, y), (x+w, y+h), (36, 255, 12), 2)\n",
    "        ocr_result = pytesseract.image_to_string(roi)\n",
    "        ocr_result = ocr_result.split(\"\\n\")\n",
    "        for item in ocr_result:\n",
    "            results.append(item)\n",
    "cv2.imwrite(f\"{path}\\\\temp\\\\index_bbox_new.png\", img)\n"
   ]
  },
  {
   "cell_type": "code",
   "execution_count": 40,
   "metadata": {},
   "outputs": [
    {
     "data": {
      "text/plain": [
       "39"
      ]
     },
     "execution_count": 40,
     "metadata": {},
     "output_type": "execute_result"
    }
   ],
   "source": [
    "# Extract text from the first and fifth ROIs\n",
    "roi1_text = pytesseract.image_to_string(rois[1])\n",
    "roi4_text = pytesseract.image_to_string(rois[4])\n",
    "\n",
    "# Strings to exclude from the extracted text\n",
    "exclude_strings = (\"Physician\")\n",
    "\n",
    "# Combine text from both ROIs and filter out specified strings\n",
    "col1 = [i for i in roi1_text.split(\"\\n\") + roi4_text.split(\"\\n\") if i.strip() and i not in exclude_strings]\n",
    "\n",
    "# Get the length of the combined list\n",
    "len(col1)"
   ]
  },
  {
   "cell_type": "code",
   "execution_count": 41,
   "metadata": {},
   "outputs": [],
   "source": [
    "col2 = ['S','P','P','P','P','P','S','S','G','S','S','S','P','P','P','P','G','G','S','P','P','P','P','P','S','S','S','G','G','G','P','P','P','P','P','P','S','P','P']"
   ]
  },
  {
   "cell_type": "code",
   "execution_count": 42,
   "metadata": {},
   "outputs": [
    {
     "data": {
      "text/html": [
       "<div>\n",
       "<style scoped>\n",
       "    .dataframe tbody tr th:only-of-type {\n",
       "        vertical-align: middle;\n",
       "    }\n",
       "\n",
       "    .dataframe tbody tr th {\n",
       "        vertical-align: top;\n",
       "    }\n",
       "\n",
       "    .dataframe thead th {\n",
       "        text-align: right;\n",
       "    }\n",
       "</style>\n",
       "<table border=\"1\" class=\"dataframe\">\n",
       "  <thead>\n",
       "    <tr style=\"text-align: right;\">\n",
       "      <th></th>\n",
       "      <th>Physician</th>\n",
       "      <th>Type of practice</th>\n",
       "    </tr>\n",
       "  </thead>\n",
       "  <tbody>\n",
       "    <tr>\n",
       "      <th>0</th>\n",
       "      <td>R. E. Scherbarth, M.D.</td>\n",
       "      <td>S</td>\n",
       "    </tr>\n",
       "    <tr>\n",
       "      <th>1</th>\n",
       "      <td>Crystal R. Goveia, M.D.</td>\n",
       "      <td>P</td>\n",
       "    </tr>\n",
       "    <tr>\n",
       "      <th>2</th>\n",
       "      <td>Mark D. Hillard, M.D.</td>\n",
       "      <td>P</td>\n",
       "    </tr>\n",
       "    <tr>\n",
       "      <th>3</th>\n",
       "      <td>Jeanine S. Huttner, M.D.</td>\n",
       "      <td>P</td>\n",
       "    </tr>\n",
       "    <tr>\n",
       "      <th>4</th>\n",
       "      <td>Francis Aona, M.D.</td>\n",
       "      <td>P</td>\n",
       "    </tr>\n",
       "    <tr>\n",
       "      <th>5</th>\n",
       "      <td>Janet Arrowsmith, M.D.</td>\n",
       "      <td>P</td>\n",
       "    </tr>\n",
       "    <tr>\n",
       "      <th>6</th>\n",
       "      <td>David DeFrance, M.D.</td>\n",
       "      <td>S</td>\n",
       "    </tr>\n",
       "    <tr>\n",
       "      <th>7</th>\n",
       "      <td>Judith Furlong, M.D.</td>\n",
       "      <td>S</td>\n",
       "    </tr>\n",
       "    <tr>\n",
       "      <th>8</th>\n",
       "      <td>Leslie Jackson, M.D.</td>\n",
       "      <td>G</td>\n",
       "    </tr>\n",
       "    <tr>\n",
       "      <th>9</th>\n",
       "      <td>Paul Langenkamp, M.D.</td>\n",
       "      <td>S</td>\n",
       "    </tr>\n",
       "    <tr>\n",
       "      <th>10</th>\n",
       "      <td>Philip Lepkowski, M.D.</td>\n",
       "      <td>S</td>\n",
       "    </tr>\n",
       "    <tr>\n",
       "      <th>11</th>\n",
       "      <td>Wendy Martin, M.D.</td>\n",
       "      <td>S</td>\n",
       "    </tr>\n",
       "    <tr>\n",
       "      <th>12</th>\n",
       "      <td>Denny Mauricio, M.D.</td>\n",
       "      <td>P</td>\n",
       "    </tr>\n",
       "    <tr>\n",
       "      <th>13</th>\n",
       "      <td>Hasmukh Parmar, M.D.</td>\n",
       "      <td>P</td>\n",
       "    </tr>\n",
       "    <tr>\n",
       "      <th>14</th>\n",
       "      <td>Ricardo Pena, M.D.</td>\n",
       "      <td>P</td>\n",
       "    </tr>\n",
       "    <tr>\n",
       "      <th>15</th>\n",
       "      <td>David Reames, M.D.</td>\n",
       "      <td>P</td>\n",
       "    </tr>\n",
       "    <tr>\n",
       "      <th>16</th>\n",
       "      <td>Ronald Reynolds, M.D.</td>\n",
       "      <td>G</td>\n",
       "    </tr>\n",
       "    <tr>\n",
       "      <th>17</th>\n",
       "      <td>Mark Steinmetz, M.D.</td>\n",
       "      <td>G</td>\n",
       "    </tr>\n",
       "    <tr>\n",
       "      <th>18</th>\n",
       "      <td>Geza Torok, M.D.</td>\n",
       "      <td>S</td>\n",
       "    </tr>\n",
       "    <tr>\n",
       "      <th>19</th>\n",
       "      <td>Mark Young, M.D.</td>\n",
       "      <td>P</td>\n",
       "    </tr>\n",
       "    <tr>\n",
       "      <th>20</th>\n",
       "      <td>Gregory Yost, M.D.</td>\n",
       "      <td>P</td>\n",
       "    </tr>\n",
       "    <tr>\n",
       "      <th>21</th>\n",
       "      <td>J. Christian Zona, M.D.</td>\n",
       "      <td>P</td>\n",
       "    </tr>\n",
       "    <tr>\n",
       "      <th>22</th>\n",
       "      <td>Larry Johnson, M.D.</td>\n",
       "      <td>P</td>\n",
       "    </tr>\n",
       "    <tr>\n",
       "      <th>23</th>\n",
       "      <td>Sanford Kimmel M.D.</td>\n",
       "      <td>P</td>\n",
       "    </tr>\n",
       "    <tr>\n",
       "      <th>24</th>\n",
       "      <td>Harry Mayhew M.D.</td>\n",
       "      <td>S</td>\n",
       "    </tr>\n",
       "    <tr>\n",
       "      <th>25</th>\n",
       "      <td>Leroy Rodgers M.D.</td>\n",
       "      <td>S</td>\n",
       "    </tr>\n",
       "    <tr>\n",
       "      <th>26</th>\n",
       "      <td>Thomas Tafelski M.D.</td>\n",
       "      <td>S</td>\n",
       "    </tr>\n",
       "    <tr>\n",
       "      <th>27</th>\n",
       "      <td>Mark Zilkoski M.D.</td>\n",
       "      <td>G</td>\n",
       "    </tr>\n",
       "    <tr>\n",
       "      <th>28</th>\n",
       "      <td>Ken Bertka, M.D.</td>\n",
       "      <td>G</td>\n",
       "    </tr>\n",
       "    <tr>\n",
       "      <th>29</th>\n",
       "      <td>Mark DeMichiei, M.D.</td>\n",
       "      <td>G</td>\n",
       "    </tr>\n",
       "    <tr>\n",
       "      <th>30</th>\n",
       "      <td>John Eggert, M.D.</td>\n",
       "      <td>P</td>\n",
       "    </tr>\n",
       "    <tr>\n",
       "      <th>31</th>\n",
       "      <td>Jeanne Fiorito, M.D.</td>\n",
       "      <td>P</td>\n",
       "    </tr>\n",
       "    <tr>\n",
       "      <th>32</th>\n",
       "      <td>Michael Fitzpatrick, M.D.</td>\n",
       "      <td>P</td>\n",
       "    </tr>\n",
       "    <tr>\n",
       "      <th>33</th>\n",
       "      <td>Charles Holt, D.O.</td>\n",
       "      <td>P</td>\n",
       "    </tr>\n",
       "    <tr>\n",
       "      <th>34</th>\n",
       "      <td>Richard Koby, M.D.</td>\n",
       "      <td>P</td>\n",
       "    </tr>\n",
       "    <tr>\n",
       "      <th>35</th>\n",
       "      <td>John Meier, M.D.</td>\n",
       "      <td>P</td>\n",
       "    </tr>\n",
       "    <tr>\n",
       "      <th>36</th>\n",
       "      <td>Douglas Smucker, M.D.</td>\n",
       "      <td>S</td>\n",
       "    </tr>\n",
       "    <tr>\n",
       "      <th>37</th>\n",
       "      <td>David Weldy, M.D.</td>\n",
       "      <td>P</td>\n",
       "    </tr>\n",
       "    <tr>\n",
       "      <th>38</th>\n",
       "      <td>Cheryl Zaborowski, M.D.</td>\n",
       "      <td>P</td>\n",
       "    </tr>\n",
       "  </tbody>\n",
       "</table>\n",
       "</div>"
      ],
      "text/plain": [
       "                    Physician Type of practice\n",
       "0      R. E. Scherbarth, M.D.                S\n",
       "1     Crystal R. Goveia, M.D.                P\n",
       "2       Mark D. Hillard, M.D.                P\n",
       "3    Jeanine S. Huttner, M.D.                P\n",
       "4          Francis Aona, M.D.                P\n",
       "5      Janet Arrowsmith, M.D.                P\n",
       "6        David DeFrance, M.D.                S\n",
       "7        Judith Furlong, M.D.                S\n",
       "8        Leslie Jackson, M.D.                G\n",
       "9       Paul Langenkamp, M.D.                S\n",
       "10     Philip Lepkowski, M.D.                S\n",
       "11         Wendy Martin, M.D.                S\n",
       "12       Denny Mauricio, M.D.                P\n",
       "13       Hasmukh Parmar, M.D.                P\n",
       "14         Ricardo Pena, M.D.                P\n",
       "15         David Reames, M.D.                P\n",
       "16      Ronald Reynolds, M.D.                G\n",
       "17       Mark Steinmetz, M.D.                G\n",
       "18           Geza Torok, M.D.                S\n",
       "19           Mark Young, M.D.                P\n",
       "20         Gregory Yost, M.D.                P\n",
       "21    J. Christian Zona, M.D.                P\n",
       "22        Larry Johnson, M.D.                P\n",
       "23        Sanford Kimmel M.D.                P\n",
       "24          Harry Mayhew M.D.                S\n",
       "25         Leroy Rodgers M.D.                S\n",
       "26       Thomas Tafelski M.D.                S\n",
       "27         Mark Zilkoski M.D.                G\n",
       "28           Ken Bertka, M.D.                G\n",
       "29       Mark DeMichiei, M.D.                G\n",
       "30          John Eggert, M.D.                P\n",
       "31       Jeanne Fiorito, M.D.                P\n",
       "32  Michael Fitzpatrick, M.D.                P\n",
       "33         Charles Holt, D.O.                P\n",
       "34         Richard Koby, M.D.                P\n",
       "35           John Meier, M.D.                P\n",
       "36      Douglas Smucker, M.D.                S\n",
       "37          David Weldy, M.D.                P\n",
       "38    Cheryl Zaborowski, M.D.                P"
      ]
     },
     "execution_count": 42,
     "metadata": {},
     "output_type": "execute_result"
    }
   ],
   "source": [
    "df=pd.DataFrame({'Physician':col1,'Type of practice':col2})\n",
    "df"
   ]
  },
  {
   "cell_type": "markdown",
   "metadata": {},
   "source": [
    "#Random sampling technique"
   ]
  },
  {
   "cell_type": "code",
   "execution_count": 43,
   "metadata": {},
   "outputs": [
    {
     "data": {
      "text/html": [
       "<div>\n",
       "<style scoped>\n",
       "    .dataframe tbody tr th:only-of-type {\n",
       "        vertical-align: middle;\n",
       "    }\n",
       "\n",
       "    .dataframe tbody tr th {\n",
       "        vertical-align: top;\n",
       "    }\n",
       "\n",
       "    .dataframe thead th {\n",
       "        text-align: right;\n",
       "    }\n",
       "</style>\n",
       "<table border=\"1\" class=\"dataframe\">\n",
       "  <thead>\n",
       "    <tr style=\"text-align: right;\">\n",
       "      <th></th>\n",
       "      <th>Physician</th>\n",
       "      <th>Type of practice</th>\n",
       "    </tr>\n",
       "  </thead>\n",
       "  <tbody>\n",
       "    <tr>\n",
       "      <th>16</th>\n",
       "      <td>Ronald Reynolds, M.D.</td>\n",
       "      <td>G</td>\n",
       "    </tr>\n",
       "    <tr>\n",
       "      <th>9</th>\n",
       "      <td>Paul Langenkamp, M.D.</td>\n",
       "      <td>S</td>\n",
       "    </tr>\n",
       "    <tr>\n",
       "      <th>14</th>\n",
       "      <td>Ricardo Pena, M.D.</td>\n",
       "      <td>P</td>\n",
       "    </tr>\n",
       "    <tr>\n",
       "      <th>24</th>\n",
       "      <td>Harry Mayhew M.D.</td>\n",
       "      <td>S</td>\n",
       "    </tr>\n",
       "    <tr>\n",
       "      <th>34</th>\n",
       "      <td>Richard Koby, M.D.</td>\n",
       "      <td>P</td>\n",
       "    </tr>\n",
       "  </tbody>\n",
       "</table>\n",
       "</div>"
      ],
      "text/plain": [
       "                Physician Type of practice\n",
       "16  Ronald Reynolds, M.D.                G\n",
       "9   Paul Langenkamp, M.D.                S\n",
       "14     Ricardo Pena, M.D.                P\n",
       "24      Harry Mayhew M.D.                S\n",
       "34     Richard Koby, M.D.                P"
      ]
     },
     "execution_count": 43,
     "metadata": {},
     "output_type": "execute_result"
    }
   ],
   "source": [
    "random_samples = df.sample(n=5)\n",
    "random_samples"
   ]
  },
  {
   "cell_type": "markdown",
   "metadata": {},
   "source": [
    "#Systematic sampling technique"
   ]
  },
  {
   "cell_type": "code",
   "execution_count": 44,
   "metadata": {},
   "outputs": [
    {
     "data": {
      "text/html": [
       "<div>\n",
       "<style scoped>\n",
       "    .dataframe tbody tr th:only-of-type {\n",
       "        vertical-align: middle;\n",
       "    }\n",
       "\n",
       "    .dataframe tbody tr th {\n",
       "        vertical-align: top;\n",
       "    }\n",
       "\n",
       "    .dataframe thead th {\n",
       "        text-align: right;\n",
       "    }\n",
       "</style>\n",
       "<table border=\"1\" class=\"dataframe\">\n",
       "  <thead>\n",
       "    <tr style=\"text-align: right;\">\n",
       "      <th></th>\n",
       "      <th>Physician</th>\n",
       "      <th>Type of practice</th>\n",
       "    </tr>\n",
       "  </thead>\n",
       "  <tbody>\n",
       "    <tr>\n",
       "      <th>4</th>\n",
       "      <td>Francis Aona, M.D.</td>\n",
       "      <td>P</td>\n",
       "    </tr>\n",
       "    <tr>\n",
       "      <th>9</th>\n",
       "      <td>Paul Langenkamp, M.D.</td>\n",
       "      <td>S</td>\n",
       "    </tr>\n",
       "    <tr>\n",
       "      <th>14</th>\n",
       "      <td>Ricardo Pena, M.D.</td>\n",
       "      <td>P</td>\n",
       "    </tr>\n",
       "    <tr>\n",
       "      <th>19</th>\n",
       "      <td>Mark Young, M.D.</td>\n",
       "      <td>P</td>\n",
       "    </tr>\n",
       "    <tr>\n",
       "      <th>24</th>\n",
       "      <td>Harry Mayhew M.D.</td>\n",
       "      <td>S</td>\n",
       "    </tr>\n",
       "    <tr>\n",
       "      <th>29</th>\n",
       "      <td>Mark DeMichiei, M.D.</td>\n",
       "      <td>G</td>\n",
       "    </tr>\n",
       "    <tr>\n",
       "      <th>34</th>\n",
       "      <td>Richard Koby, M.D.</td>\n",
       "      <td>P</td>\n",
       "    </tr>\n",
       "  </tbody>\n",
       "</table>\n",
       "</div>"
      ],
      "text/plain": [
       "                Physician Type of practice\n",
       "4      Francis Aona, M.D.                P\n",
       "9   Paul Langenkamp, M.D.                S\n",
       "14     Ricardo Pena, M.D.                P\n",
       "19       Mark Young, M.D.                P\n",
       "24      Harry Mayhew M.D.                S\n",
       "29   Mark DeMichiei, M.D.                G\n",
       "34     Richard Koby, M.D.                P"
      ]
     },
     "execution_count": 44,
     "metadata": {},
     "output_type": "execute_result"
    }
   ],
   "source": [
    "start_row = 4\n",
    "step = 5\n",
    "systematic_sample = df.iloc[start_row::step]\n",
    "systematic_sample\n"
   ]
  },
  {
   "cell_type": "markdown",
   "metadata": {},
   "source": [
    "#Stratified sampling technique"
   ]
  },
  {
   "cell_type": "code",
   "execution_count": 45,
   "metadata": {},
   "outputs": [
    {
     "data": {
      "text/html": [
       "<div>\n",
       "<style scoped>\n",
       "    .dataframe tbody tr th:only-of-type {\n",
       "        vertical-align: middle;\n",
       "    }\n",
       "\n",
       "    .dataframe tbody tr th {\n",
       "        vertical-align: top;\n",
       "    }\n",
       "\n",
       "    .dataframe thead th {\n",
       "        text-align: right;\n",
       "    }\n",
       "</style>\n",
       "<table border=\"1\" class=\"dataframe\">\n",
       "  <thead>\n",
       "    <tr style=\"text-align: right;\">\n",
       "      <th></th>\n",
       "      <th>Physician</th>\n",
       "      <th>Type of practice</th>\n",
       "    </tr>\n",
       "  </thead>\n",
       "  <tbody>\n",
       "    <tr>\n",
       "      <th>10</th>\n",
       "      <td>Philip Lepkowski, M.D.</td>\n",
       "      <td>S</td>\n",
       "    </tr>\n",
       "    <tr>\n",
       "      <th>36</th>\n",
       "      <td>Douglas Smucker, M.D.</td>\n",
       "      <td>S</td>\n",
       "    </tr>\n",
       "    <tr>\n",
       "      <th>3</th>\n",
       "      <td>Jeanine S. Huttner, M.D.</td>\n",
       "      <td>P</td>\n",
       "    </tr>\n",
       "    <tr>\n",
       "      <th>33</th>\n",
       "      <td>Charles Holt, D.O.</td>\n",
       "      <td>P</td>\n",
       "    </tr>\n",
       "    <tr>\n",
       "      <th>17</th>\n",
       "      <td>Mark Steinmetz, M.D.</td>\n",
       "      <td>G</td>\n",
       "    </tr>\n",
       "  </tbody>\n",
       "</table>\n",
       "</div>"
      ],
      "text/plain": [
       "                   Physician Type of practice\n",
       "10    Philip Lepkowski, M.D.                S\n",
       "36     Douglas Smucker, M.D.                S\n",
       "3   Jeanine S. Huttner, M.D.                P\n",
       "33        Charles Holt, D.O.                P\n",
       "17      Mark Steinmetz, M.D.                G"
      ]
     },
     "execution_count": 45,
     "metadata": {},
     "output_type": "execute_result"
    }
   ],
   "source": [
    "sample_s = df.loc[df['Type of practice']=='S'].sample(n=2)\n",
    "sample_p = df.loc[df['Type of practice']=='P'].sample(n=2)\n",
    "sample_g = df.loc[df['Type of practice']=='G'].sample(n=1)\n",
    "\n",
    "sample = pd.concat([sample_s,sample_p,sample_g])\n",
    "sample"
   ]
  },
  {
   "cell_type": "markdown",
   "metadata": {},
   "source": [
    "#Q44"
   ]
  },
  {
   "cell_type": "code",
   "execution_count": 46,
   "metadata": {},
   "outputs": [
    {
     "name": "stdout",
     "output_type": "stream",
     "text": [
      "      0\n",
      "0    90\n",
      "1    72\n",
      "2    75\n",
      "3    60\n",
      "4    75\n",
      "5    72\n",
      "6    84\n",
      "7    72\n",
      "8    88\n",
      "9    74\n",
      "10  105\n",
      "11  115\n",
      "12   68\n",
      "13   84\n",
      "14   80\n",
      "15   64\n",
      "16  104\n",
      "17   82\n",
      "18   48\n",
      "19   58\n",
      "20   60\n",
      "21   80\n",
      "22   48\n",
      "23   58\n",
      "24  108\n"
     ]
    }
   ],
   "source": [
    "pop=pd.DataFrame([90,72,75,60,75,72,84,72,88,74,105,115,68,84,80,64,104,82,48,58,60,80,48,58,108])\n",
    "print(pop)"
   ]
  },
  {
   "cell_type": "code",
   "execution_count": 47,
   "metadata": {},
   "outputs": [
    {
     "data": {
      "text/html": [
       "<div>\n",
       "<style scoped>\n",
       "    .dataframe tbody tr th:only-of-type {\n",
       "        vertical-align: middle;\n",
       "    }\n",
       "\n",
       "    .dataframe tbody tr th {\n",
       "        vertical-align: top;\n",
       "    }\n",
       "\n",
       "    .dataframe thead th {\n",
       "        text-align: right;\n",
       "    }\n",
       "</style>\n",
       "<table border=\"1\" class=\"dataframe\">\n",
       "  <thead>\n",
       "    <tr style=\"text-align: right;\">\n",
       "      <th></th>\n",
       "      <th>0</th>\n",
       "    </tr>\n",
       "  </thead>\n",
       "  <tbody>\n",
       "    <tr>\n",
       "      <th>14</th>\n",
       "      <td>80</td>\n",
       "    </tr>\n",
       "    <tr>\n",
       "      <th>21</th>\n",
       "      <td>80</td>\n",
       "    </tr>\n",
       "    <tr>\n",
       "      <th>0</th>\n",
       "      <td>90</td>\n",
       "    </tr>\n",
       "    <tr>\n",
       "      <th>20</th>\n",
       "      <td>60</td>\n",
       "    </tr>\n",
       "    <tr>\n",
       "      <th>12</th>\n",
       "      <td>68</td>\n",
       "    </tr>\n",
       "  </tbody>\n",
       "</table>\n",
       "</div>"
      ],
      "text/plain": [
       "     0\n",
       "14  80\n",
       "21  80\n",
       "0   90\n",
       "20  60\n",
       "12  68"
      ]
     },
     "execution_count": 47,
     "metadata": {},
     "output_type": "execute_result"
    }
   ],
   "source": [
    "pop.sample(5)"
   ]
  },
  {
   "cell_type": "code",
   "execution_count": 48,
   "metadata": {},
   "outputs": [
    {
     "data": {
      "text/html": [
       "<div>\n",
       "<style scoped>\n",
       "    .dataframe tbody tr th:only-of-type {\n",
       "        vertical-align: middle;\n",
       "    }\n",
       "\n",
       "    .dataframe tbody tr th {\n",
       "        vertical-align: top;\n",
       "    }\n",
       "\n",
       "    .dataframe thead th {\n",
       "        text-align: right;\n",
       "    }\n",
       "</style>\n",
       "<table border=\"1\" class=\"dataframe\">\n",
       "  <thead>\n",
       "    <tr style=\"text-align: right;\">\n",
       "      <th></th>\n",
       "      <th>0</th>\n",
       "    </tr>\n",
       "  </thead>\n",
       "  <tbody>\n",
       "    <tr>\n",
       "      <th>2</th>\n",
       "      <td>75</td>\n",
       "    </tr>\n",
       "    <tr>\n",
       "      <th>7</th>\n",
       "      <td>72</td>\n",
       "    </tr>\n",
       "    <tr>\n",
       "      <th>12</th>\n",
       "      <td>68</td>\n",
       "    </tr>\n",
       "    <tr>\n",
       "      <th>17</th>\n",
       "      <td>82</td>\n",
       "    </tr>\n",
       "    <tr>\n",
       "      <th>22</th>\n",
       "      <td>48</td>\n",
       "    </tr>\n",
       "  </tbody>\n",
       "</table>\n",
       "</div>"
      ],
      "text/plain": [
       "     0\n",
       "2   75\n",
       "7   72\n",
       "12  68\n",
       "17  82\n",
       "22  48"
      ]
     },
     "execution_count": 48,
     "metadata": {},
     "output_type": "execute_result"
    }
   ],
   "source": [
    "start_row = 2\n",
    "step = 5\n",
    "systematic_sample = pop.iloc[start_row::step]\n",
    "systematic_sample\n"
   ]
  },
  {
   "cell_type": "code",
   "execution_count": 49,
   "metadata": {},
   "outputs": [
    {
     "data": {
      "text/html": [
       "<div>\n",
       "<style scoped>\n",
       "    .dataframe tbody tr th:only-of-type {\n",
       "        vertical-align: middle;\n",
       "    }\n",
       "\n",
       "    .dataframe tbody tr th {\n",
       "        vertical-align: top;\n",
       "    }\n",
       "\n",
       "    .dataframe thead th {\n",
       "        text-align: right;\n",
       "    }\n",
       "</style>\n",
       "<table border=\"1\" class=\"dataframe\">\n",
       "  <thead>\n",
       "    <tr style=\"text-align: right;\">\n",
       "      <th></th>\n",
       "      <th>0</th>\n",
       "    </tr>\n",
       "  </thead>\n",
       "  <tbody>\n",
       "    <tr>\n",
       "      <th>4</th>\n",
       "      <td>75</td>\n",
       "    </tr>\n",
       "    <tr>\n",
       "      <th>0</th>\n",
       "      <td>90</td>\n",
       "    </tr>\n",
       "    <tr>\n",
       "      <th>7</th>\n",
       "      <td>72</td>\n",
       "    </tr>\n",
       "    <tr>\n",
       "      <th>24</th>\n",
       "      <td>108</td>\n",
       "    </tr>\n",
       "    <tr>\n",
       "      <th>22</th>\n",
       "      <td>48</td>\n",
       "    </tr>\n",
       "  </tbody>\n",
       "</table>\n",
       "</div>"
      ],
      "text/plain": [
       "      0\n",
       "4    75\n",
       "0    90\n",
       "7    72\n",
       "24  108\n",
       "22   48"
      ]
     },
     "execution_count": 49,
     "metadata": {},
     "output_type": "execute_result"
    }
   ],
   "source": [
    "sample_1 = pop.iloc[:-5].sample(n=3)\n",
    "sample_2 = pop.iloc[-5:].sample(n=2)\n",
    "\n",
    "sample = pd.concat([sample_1,sample_2])\n",
    "sample"
   ]
  },
  {
   "cell_type": "markdown",
   "metadata": {},
   "source": [
    "#Q45"
   ]
  },
  {
   "cell_type": "code",
   "execution_count": 50,
   "metadata": {},
   "outputs": [
    {
     "name": "stdout",
     "output_type": "stream",
     "text": [
      "All the possible combinations of a population size of 5 and k=2: 10\n"
     ]
    }
   ],
   "source": [
    "print('All the possible combinations of a population size of 5 and k=2:',math.comb(5,2))"
   ]
  },
  {
   "cell_type": "code",
   "execution_count": 51,
   "metadata": {},
   "outputs": [
    {
     "data": {
      "text/html": [
       "<div>\n",
       "<style scoped>\n",
       "    .dataframe tbody tr th:only-of-type {\n",
       "        vertical-align: middle;\n",
       "    }\n",
       "\n",
       "    .dataframe tbody tr th {\n",
       "        vertical-align: top;\n",
       "    }\n",
       "\n",
       "    .dataframe thead th {\n",
       "        text-align: right;\n",
       "    }\n",
       "</style>\n",
       "<table border=\"1\" class=\"dataframe\">\n",
       "  <thead>\n",
       "    <tr style=\"text-align: right;\">\n",
       "      <th></th>\n",
       "      <th>Student</th>\n",
       "      <th>Number Correct</th>\n",
       "    </tr>\n",
       "  </thead>\n",
       "  <tbody>\n",
       "    <tr>\n",
       "      <th>0</th>\n",
       "      <td>Taylor</td>\n",
       "      <td>4</td>\n",
       "    </tr>\n",
       "    <tr>\n",
       "      <th>1</th>\n",
       "      <td>Hurley</td>\n",
       "      <td>3</td>\n",
       "    </tr>\n",
       "    <tr>\n",
       "      <th>2</th>\n",
       "      <td>Fowler</td>\n",
       "      <td>5</td>\n",
       "    </tr>\n",
       "    <tr>\n",
       "      <th>3</th>\n",
       "      <td>Rousche</td>\n",
       "      <td>3</td>\n",
       "    </tr>\n",
       "    <tr>\n",
       "      <th>4</th>\n",
       "      <td>Telatko</td>\n",
       "      <td>2</td>\n",
       "    </tr>\n",
       "  </tbody>\n",
       "</table>\n",
       "</div>"
      ],
      "text/plain": [
       "   Student  Number Correct\n",
       "0   Taylor               4\n",
       "1   Hurley               3\n",
       "2   Fowler               5\n",
       "3  Rousche               3\n",
       "4  Telatko               2"
      ]
     },
     "execution_count": 51,
     "metadata": {},
     "output_type": "execute_result"
    }
   ],
   "source": [
    "stdnt = ['Taylor','Hurley','Fowler','Rousche','Telatko']\n",
    "num = [4,3,5,3,2]\n",
    "df=pd.DataFrame({'Student':stdnt,'Number Correct':num})\n",
    "df"
   ]
  },
  {
   "cell_type": "code",
   "execution_count": 52,
   "metadata": {},
   "outputs": [
    {
     "name": "stdout",
     "output_type": "stream",
     "text": [
      "('Taylor', 'Hurley')\n",
      "('Taylor', 'Fowler')\n",
      "('Taylor', 'Rousche')\n",
      "('Taylor', 'Telatko')\n",
      "('Hurley', 'Fowler')\n",
      "('Hurley', 'Rousche')\n",
      "('Hurley', 'Telatko')\n",
      "('Fowler', 'Rousche')\n",
      "('Fowler', 'Telatko')\n",
      "('Rousche', 'Telatko')\n"
     ]
    }
   ],
   "source": [
    "# Generate all possible combinations of elements\n",
    "combinations = list(itertools.combinations(df['Student'], 2))  # Change 2 to the desired combination size\n",
    "\n",
    "# Print the combinations\n",
    "for combination in combinations:\n",
    "    print(combination)"
   ]
  },
  {
   "cell_type": "code",
   "execution_count": 53,
   "metadata": {},
   "outputs": [
    {
     "name": "stdout",
     "output_type": "stream",
     "text": [
      "(4, 3)\n",
      "(4, 5)\n",
      "(4, 3)\n",
      "(4, 2)\n",
      "(3, 5)\n",
      "(3, 3)\n",
      "(3, 2)\n",
      "(5, 3)\n",
      "(5, 2)\n",
      "(3, 2)\n"
     ]
    }
   ],
   "source": [
    "# Generate all possible combinations of elements\n",
    "combinations = list(itertools.combinations(df['Number Correct'], 2))  # Change 2 to the desired combination size\n",
    "\n",
    "# Print the combinations\n",
    "for combination in combinations:\n",
    "    print(combination)"
   ]
  },
  {
   "cell_type": "code",
   "execution_count": 54,
   "metadata": {},
   "outputs": [
    {
     "name": "stdout",
     "output_type": "stream",
     "text": [
      "  Combination  Mean\n",
      "0      (4, 3)   3.5\n",
      "1      (4, 5)   4.5\n",
      "2      (4, 3)   3.5\n",
      "3      (4, 2)   3.0\n",
      "4      (3, 5)   4.0\n",
      "5      (3, 3)   3.0\n",
      "6      (3, 2)   2.5\n",
      "7      (5, 3)   4.0\n",
      "8      (5, 2)   3.5\n",
      "9      (3, 2)   2.5\n"
     ]
    }
   ],
   "source": [
    "combination_means = [sum(combination) / len(combination) for combination in combinations]\n",
    "\n",
    "# Create a DataFrame to store the results\n",
    "df = pd.DataFrame({'Combination': combinations, 'Mean': combination_means})\n",
    "\n",
    "# Print the DataFrame\n",
    "print(df)"
   ]
  },
  {
   "cell_type": "code",
   "execution_count": 55,
   "metadata": {},
   "outputs": [
    {
     "name": "stdout",
     "output_type": "stream",
     "text": [
      "The population mean: 3.5\n"
     ]
    },
    {
     "data": {
      "text/html": [
       "<div>\n",
       "<style scoped>\n",
       "    .dataframe tbody tr th:only-of-type {\n",
       "        vertical-align: middle;\n",
       "    }\n",
       "\n",
       "    .dataframe tbody tr th {\n",
       "        vertical-align: top;\n",
       "    }\n",
       "\n",
       "    .dataframe thead th {\n",
       "        text-align: right;\n",
       "    }\n",
       "</style>\n",
       "<table border=\"1\" class=\"dataframe\">\n",
       "  <thead>\n",
       "    <tr style=\"text-align: right;\">\n",
       "      <th></th>\n",
       "      <th>index</th>\n",
       "      <th>Mean</th>\n",
       "      <th>Counts</th>\n",
       "      <th>Relative Frequency</th>\n",
       "    </tr>\n",
       "  </thead>\n",
       "  <tbody>\n",
       "    <tr>\n",
       "      <th>0</th>\n",
       "      <td>3</td>\n",
       "      <td>2.5</td>\n",
       "      <td>2</td>\n",
       "      <td>0.2</td>\n",
       "    </tr>\n",
       "    <tr>\n",
       "      <th>1</th>\n",
       "      <td>1</td>\n",
       "      <td>3.0</td>\n",
       "      <td>2</td>\n",
       "      <td>0.2</td>\n",
       "    </tr>\n",
       "    <tr>\n",
       "      <th>2</th>\n",
       "      <td>0</td>\n",
       "      <td>3.5</td>\n",
       "      <td>3</td>\n",
       "      <td>0.3</td>\n",
       "    </tr>\n",
       "    <tr>\n",
       "      <th>3</th>\n",
       "      <td>2</td>\n",
       "      <td>4.0</td>\n",
       "      <td>2</td>\n",
       "      <td>0.2</td>\n",
       "    </tr>\n",
       "    <tr>\n",
       "      <th>4</th>\n",
       "      <td>4</td>\n",
       "      <td>4.5</td>\n",
       "      <td>1</td>\n",
       "      <td>0.1</td>\n",
       "    </tr>\n",
       "  </tbody>\n",
       "</table>\n",
       "</div>"
      ],
      "text/plain": [
       "   index  Mean  Counts  Relative Frequency\n",
       "0      3   2.5       2                 0.2\n",
       "1      1   3.0       2                 0.2\n",
       "2      0   3.5       3                 0.3\n",
       "3      2   4.0       2                 0.2\n",
       "4      4   4.5       1                 0.1"
      ]
     },
     "execution_count": 55,
     "metadata": {},
     "output_type": "execute_result"
    }
   ],
   "source": [
    "dff = df['Mean'].value_counts()\n",
    "dff = pd.DataFrame({'Mean':dff.index,'Counts':dff.values}).sort_values(by='Mean',ascending=True).reset_index()\n",
    "dff['Relative Frequency'] = dff['Counts']/np.sum(dff['Counts'])\n",
    "print('The population mean:',np.mean(dff['Mean']))\n",
    "dff"
   ]
  },
  {
   "cell_type": "markdown",
   "metadata": {},
   "source": [
    "#Q46"
   ]
  },
  {
   "cell_type": "code",
   "execution_count": 56,
   "metadata": {},
   "outputs": [
    {
     "data": {
      "text/html": [
       "<div>\n",
       "<style scoped>\n",
       "    .dataframe tbody tr th:only-of-type {\n",
       "        vertical-align: middle;\n",
       "    }\n",
       "\n",
       "    .dataframe tbody tr th {\n",
       "        vertical-align: top;\n",
       "    }\n",
       "\n",
       "    .dataframe thead th {\n",
       "        text-align: right;\n",
       "    }\n",
       "</style>\n",
       "<table border=\"1\" class=\"dataframe\">\n",
       "  <thead>\n",
       "    <tr style=\"text-align: right;\">\n",
       "      <th></th>\n",
       "      <th>Name</th>\n",
       "      <th>Age</th>\n",
       "    </tr>\n",
       "  </thead>\n",
       "  <tbody>\n",
       "    <tr>\n",
       "      <th>0</th>\n",
       "      <td>Mr.Jones</td>\n",
       "      <td>54</td>\n",
       "    </tr>\n",
       "    <tr>\n",
       "      <th>1</th>\n",
       "      <td>Ms.Smith</td>\n",
       "      <td>50</td>\n",
       "    </tr>\n",
       "    <tr>\n",
       "      <th>2</th>\n",
       "      <td>Mr.Kirk</td>\n",
       "      <td>52</td>\n",
       "    </tr>\n",
       "    <tr>\n",
       "      <th>3</th>\n",
       "      <td>Mr.Small</td>\n",
       "      <td>48</td>\n",
       "    </tr>\n",
       "    <tr>\n",
       "      <th>4</th>\n",
       "      <td>Mr.Hugh</td>\n",
       "      <td>50</td>\n",
       "    </tr>\n",
       "    <tr>\n",
       "      <th>5</th>\n",
       "      <td>Mr.Sioto</td>\n",
       "      <td>52</td>\n",
       "    </tr>\n",
       "  </tbody>\n",
       "</table>\n",
       "</div>"
      ],
      "text/plain": [
       "       Name  Age\n",
       "0  Mr.Jones   54\n",
       "1  Ms.Smith   50\n",
       "2   Mr.Kirk   52\n",
       "3  Mr.Small   48\n",
       "4   Mr.Hugh   50\n",
       "5  Mr.Sioto   52"
      ]
     },
     "execution_count": 56,
     "metadata": {},
     "output_type": "execute_result"
    }
   ],
   "source": [
    "name=['Mr.Jones','Ms.Smith','Mr.Kirk','Mr.Small','Mr.Hugh','Mr.Sioto']\n",
    "age=[54,50,52,48,50,52]\n",
    "df=pd.DataFrame({'Name':name,'Age':age})\n",
    "df"
   ]
  },
  {
   "cell_type": "code",
   "execution_count": 57,
   "metadata": {},
   "outputs": [
    {
     "name": "stdout",
     "output_type": "stream",
     "text": [
      "The number of all possible samples of size 2 is 15\n"
     ]
    }
   ],
   "source": [
    "print(f'The number of all possible samples of size 2 is {math.comb(6,2)}')"
   ]
  },
  {
   "cell_type": "code",
   "execution_count": 58,
   "metadata": {},
   "outputs": [
    {
     "data": {
      "text/html": [
       "<div>\n",
       "<style scoped>\n",
       "    .dataframe tbody tr th:only-of-type {\n",
       "        vertical-align: middle;\n",
       "    }\n",
       "\n",
       "    .dataframe tbody tr th {\n",
       "        vertical-align: top;\n",
       "    }\n",
       "\n",
       "    .dataframe thead th {\n",
       "        text-align: right;\n",
       "    }\n",
       "</style>\n",
       "<table border=\"1\" class=\"dataframe\">\n",
       "  <thead>\n",
       "    <tr style=\"text-align: right;\">\n",
       "      <th></th>\n",
       "      <th>Combinations</th>\n",
       "      <th>Means</th>\n",
       "    </tr>\n",
       "  </thead>\n",
       "  <tbody>\n",
       "    <tr>\n",
       "      <th>0</th>\n",
       "      <td>(54, 50)</td>\n",
       "      <td>52.0</td>\n",
       "    </tr>\n",
       "    <tr>\n",
       "      <th>1</th>\n",
       "      <td>(54, 52)</td>\n",
       "      <td>53.0</td>\n",
       "    </tr>\n",
       "    <tr>\n",
       "      <th>2</th>\n",
       "      <td>(54, 48)</td>\n",
       "      <td>51.0</td>\n",
       "    </tr>\n",
       "    <tr>\n",
       "      <th>3</th>\n",
       "      <td>(54, 50)</td>\n",
       "      <td>52.0</td>\n",
       "    </tr>\n",
       "    <tr>\n",
       "      <th>4</th>\n",
       "      <td>(54, 52)</td>\n",
       "      <td>53.0</td>\n",
       "    </tr>\n",
       "    <tr>\n",
       "      <th>5</th>\n",
       "      <td>(50, 52)</td>\n",
       "      <td>51.0</td>\n",
       "    </tr>\n",
       "    <tr>\n",
       "      <th>6</th>\n",
       "      <td>(50, 48)</td>\n",
       "      <td>49.0</td>\n",
       "    </tr>\n",
       "    <tr>\n",
       "      <th>7</th>\n",
       "      <td>(50, 50)</td>\n",
       "      <td>50.0</td>\n",
       "    </tr>\n",
       "    <tr>\n",
       "      <th>8</th>\n",
       "      <td>(50, 52)</td>\n",
       "      <td>51.0</td>\n",
       "    </tr>\n",
       "    <tr>\n",
       "      <th>9</th>\n",
       "      <td>(52, 48)</td>\n",
       "      <td>50.0</td>\n",
       "    </tr>\n",
       "    <tr>\n",
       "      <th>10</th>\n",
       "      <td>(52, 50)</td>\n",
       "      <td>51.0</td>\n",
       "    </tr>\n",
       "    <tr>\n",
       "      <th>11</th>\n",
       "      <td>(52, 52)</td>\n",
       "      <td>52.0</td>\n",
       "    </tr>\n",
       "    <tr>\n",
       "      <th>12</th>\n",
       "      <td>(48, 50)</td>\n",
       "      <td>49.0</td>\n",
       "    </tr>\n",
       "    <tr>\n",
       "      <th>13</th>\n",
       "      <td>(48, 52)</td>\n",
       "      <td>50.0</td>\n",
       "    </tr>\n",
       "    <tr>\n",
       "      <th>14</th>\n",
       "      <td>(50, 52)</td>\n",
       "      <td>51.0</td>\n",
       "    </tr>\n",
       "  </tbody>\n",
       "</table>\n",
       "</div>"
      ],
      "text/plain": [
       "   Combinations  Means\n",
       "0      (54, 50)   52.0\n",
       "1      (54, 52)   53.0\n",
       "2      (54, 48)   51.0\n",
       "3      (54, 50)   52.0\n",
       "4      (54, 52)   53.0\n",
       "5      (50, 52)   51.0\n",
       "6      (50, 48)   49.0\n",
       "7      (50, 50)   50.0\n",
       "8      (50, 52)   51.0\n",
       "9      (52, 48)   50.0\n",
       "10     (52, 50)   51.0\n",
       "11     (52, 52)   52.0\n",
       "12     (48, 50)   49.0\n",
       "13     (48, 52)   50.0\n",
       "14     (50, 52)   51.0"
      ]
     },
     "execution_count": 58,
     "metadata": {},
     "output_type": "execute_result"
    }
   ],
   "source": [
    "combinations = list(itertools.combinations(df['Age'],2))\n",
    "combination_means = [sum(combination) / len(combination) for combination in combinations]\n",
    "df = pd.DataFrame({'Combinations':combinations,'Means':combination_means})\n",
    "df"
   ]
  },
  {
   "cell_type": "code",
   "execution_count": 59,
   "metadata": {},
   "outputs": [
    {
     "name": "stdout",
     "output_type": "stream",
     "text": [
      "   Means  Count\n",
      "0   49.0      2\n",
      "1   50.0      3\n",
      "2   51.0      5\n",
      "3   52.0      3\n",
      "4   53.0      2"
     ]
    },
    {
     "name": "stdout",
     "output_type": "stream",
     "text": [
      "\n"
     ]
    },
    {
     "data": {
      "image/png": "[encoded data removed]",
      "text/plain": [
       "<Figure size 1000x600 with 1 Axes>"
      ]
     },
     "metadata": {},
     "output_type": "display_data"
    }
   ],
   "source": [
    "dff = df['Means'].value_counts()\n",
    "dff = pd.DataFrame({'Means':dff.index,'Count':dff.values}).sort_values(by='Means',ascending=True).reset_index(drop=True)\n",
    "print(dff)\n",
    "# Set the figure size\n",
    "plt.figure(figsize=(10, 6))\n",
    "\n",
    "# Create the bar plot\n",
    "plt.bar(x=dff['Means'], height=dff['Count'], color='skyblue')\n",
    "\n",
    "# Add labels and title\n",
    "plt.xlabel('Means')\n",
    "plt.ylabel('Count')\n",
    "plt.title('Distribution of Means')\n",
    "\n",
    "# Rotate x-axis labels for better readability (if needed)\n",
    "plt.xticks(rotation=45)\n",
    "\n",
    "# Show plot\n",
    "plt.show()"
   ]
  },
  {
   "cell_type": "markdown",
   "metadata": {},
   "source": [
    "#Q49"
   ]
  },
  {
   "cell_type": "code",
   "execution_count": 60,
   "metadata": {},
   "outputs": [
    {
     "name": "stdout",
     "output_type": "stream",
     "text": [
      "(6.156573473393268, 6.843426526606732)\n"
     ]
    }
   ],
   "source": [
    "n=85\n",
    "mean=6.5\n",
    "std=1.7\n",
    "confidence=0.95\n",
    "\n",
    "z = stats.norm.ppf(confidence + (1-confidence)/2)\n",
    "moe = z*(std/np.sqrt(n))*correrction_factor\n",
    "print((mean-moe,mean+moe))"
   ]
  },
  {
   "cell_type": "markdown",
   "metadata": {},
   "source": [
    "#Q50"
   ]
  },
  {
   "cell_type": "code",
   "execution_count": 61,
   "metadata": {},
   "outputs": [
    {
     "name": "stdout",
     "output_type": "stream",
     "text": [
      "(0.3969053254179663, 0.5230946745820337)\n"
     ]
    }
   ],
   "source": [
    "N=900\n",
    "n=414\n",
    "p=n/N\n",
    "confidence=0.99\n",
    "z = stats.norm.ppf(confidence + (1-confidence)/2)\n",
    "moe = z*np.sqrt(p*(1-p)/n)\n",
    "print((p-moe,p+moe))"
   ]
  },
  {
   "cell_type": "markdown",
   "metadata": {},
   "source": [
    "#Q51"
   ]
  },
  {
   "cell_type": "code",
   "execution_count": 62,
   "metadata": {},
   "outputs": [
    {
     "name": "stdout",
     "output_type": "stream",
     "text": [
      "369.0\n"
     ]
    }
   ],
   "source": [
    "confidence = 0.95\n",
    "e=0.05\n",
    "p=0.6\n",
    "n=p*(1-p)*(stats.norm.ppf(confidence+(1-confidence)/2)/e)**2\n",
    "print(np.ceil(n))"
   ]
  },
  {
   "cell_type": "markdown",
   "metadata": {},
   "source": [
    "#Q52"
   ]
  },
  {
   "cell_type": "code",
   "execution_count": 63,
   "metadata": {},
   "outputs": [
    {
     "name": "stdout",
     "output_type": "stream",
     "text": [
      "(0.6369053254179663, 0.7630946745820336)\n"
     ]
    }
   ],
   "source": [
    "N=500\n",
    "n=350\n",
    "p=n/N\n",
    "confidence=0.99\n",
    "z = stats.norm.ppf(confidence + (1-confidence)/2)\n",
    "moe = z*np.sqrt(p*(1-p)/n)\n",
    "print((p-moe,p+moe))"
   ]
  },
  {
   "cell_type": "markdown",
   "metadata": {},
   "source": [
    "#Q53"
   ]
  },
  {
   "cell_type": "code",
   "execution_count": 64,
   "metadata": {},
   "outputs": [
    {
     "name": "stdout",
     "output_type": "stream",
     "text": [
      "133.0\n"
     ]
    }
   ],
   "source": [
    "confidence = 0.9\n",
    "e=2\n",
    "s=14\n",
    "n=(stats.norm.ppf(confidence+(1-confidence)/2)*s/e)**2\n",
    "print(np.ceil(n))"
   ]
  },
  {
   "cell_type": "markdown",
   "metadata": {},
   "source": [
    "#Q55"
   ]
  },
  {
   "cell_type": "code",
   "execution_count": 65,
   "metadata": {},
   "outputs": [
    {
     "name": "stdout",
     "output_type": "stream",
     "text": [
      "(3.0048932564512763, 3.0151067435487233)\n"
     ]
    }
   ],
   "source": [
    "mean=3.01\n",
    "std=0.03\n",
    "confidence=0.95\n",
    "\n",
    "z = stats.norm.ppf(confidence + (1-confidence)/2)\n",
    "moe = z*(std/np.sqrt(n))\n",
    "print((mean-moe,mean+moe))"
   ]
  },
  {
   "cell_type": "markdown",
   "metadata": {},
   "source": [
    "#Q56"
   ]
  },
  {
   "cell_type": "code",
   "execution_count": 66,
   "metadata": {},
   "outputs": [
    {
     "name": "stdout",
     "output_type": "stream",
     "text": [
      "(53.23398846769148, 54.76601153230852)\n"
     ]
    }
   ],
   "source": [
    "mean=54\n",
    "std=4.50\n",
    "confidence=0.95\n",
    "\n",
    "z = stats.norm.ppf(confidence + (1-confidence)/2)\n",
    "moe = z*(std/np.sqrt(n))\n",
    "print((mean-moe,mean+moe))"
   ]
  },
  {
   "cell_type": "markdown",
   "metadata": {},
   "source": [
    "#Q57"
   ]
  },
  {
   "cell_type": "code",
   "execution_count": 67,
   "metadata": {},
   "outputs": [
    {
     "name": "stdout",
     "output_type": "stream",
     "text": [
      "(0.2676213016718653, 0.7723786983281347)\n"
     ]
    }
   ],
   "source": [
    "N=50\n",
    "n=26\n",
    "p=n/N\n",
    "confidence=0.99\n",
    "z = stats.norm.ppf(confidence + (1-confidence)/2)\n",
    "moe = z*np.sqrt(p*(1-p)/n)\n",
    "print((p-moe,p+moe))"
   ]
  },
  {
   "cell_type": "markdown",
   "metadata": {},
   "source": [
    "#Q58"
   ]
  },
  {
   "cell_type": "code",
   "execution_count": 68,
   "metadata": {},
   "outputs": [
    {
     "name": "stdout",
     "output_type": "stream",
     "text": [
      "(1.1638451493663693, 1.1941548506336308)\n"
     ]
    }
   ],
   "source": [
    "mean=1.179\n",
    "std=0.03\n",
    "confidence=0.99\n",
    "\n",
    "z = stats.norm.ppf(confidence + (1-confidence)/2)\n",
    "moe = z*(std/np.sqrt(n))\n",
    "print((mean-moe,mean+moe))"
   ]
  },
  {
   "cell_type": "markdown",
   "metadata": {},
   "source": [
    "#Q59"
   ]
  },
  {
   "cell_type": "code",
   "execution_count": 69,
   "metadata": {},
   "outputs": [
    {
     "name": "stdout",
     "output_type": "stream",
     "text": [
      "(0.6270088900985432, 0.6929911099014568)\n"
     ]
    }
   ],
   "source": [
    "N=1200\n",
    "n=792\n",
    "p=n/N\n",
    "confidence=0.95\n",
    "z = stats.norm.ppf(confidence + (1-confidence)/2)\n",
    "moe = z*np.sqrt(p*(1-p)/n)\n",
    "print((p-moe,p+moe))"
   ]
  },
  {
   "cell_type": "markdown",
   "metadata": {},
   "source": [
    "#Q60"
   ]
  },
  {
   "cell_type": "code",
   "execution_count": 70,
   "metadata": {},
   "outputs": [
    {
     "name": "stdout",
     "output_type": "stream",
     "text": [
      "(11.725415673636801, 12.274584326363199)\n"
     ]
    }
   ],
   "source": [
    "mean=12\n",
    "std=3\n",
    "confidence=0.99\n",
    "\n",
    "z = stats.norm.ppf(confidence + (1-confidence)/2)\n",
    "moe = z*(std/np.sqrt(n))\n",
    "print((mean-moe,mean+moe))"
   ]
  },
  {
   "cell_type": "code",
   "execution_count": 71,
   "metadata": {},
   "outputs": [
    {
     "name": "stdout",
     "output_type": "stream",
     "text": [
      "(9.556353761094071, 14.443646238905929)\n"
     ]
    }
   ],
   "source": [
    "mean=12\n",
    "std=6\n",
    "confidence=0.99\n",
    "n=40\n",
    "\n",
    "z = stats.norm.ppf(confidence + (1-confidence)/2)\n",
    "moe = z*(std/np.sqrt(n))\n",
    "print((mean-moe,mean+moe))"
   ]
  },
  {
   "cell_type": "code",
   "execution_count": 72,
   "metadata": {},
   "outputs": [
    {
     "name": "stdout",
     "output_type": "stream",
     "text": [
      "(8.741805014792096, 15.258194985207904)\n"
     ]
    }
   ],
   "source": [
    "mean=12\n",
    "std=8\n",
    "confidence=0.99\n",
    "\n",
    "z = stats.norm.ppf(confidence + (1-confidence)/2)\n",
    "moe = z*(std/np.sqrt(n))\n",
    "print((mean-moe,mean+moe))"
   ]
  },
  {
   "cell_type": "markdown",
   "metadata": {},
   "source": [
    "#Q63"
   ]
  },
  {
   "cell_type": "code",
   "execution_count": 73,
   "metadata": {},
   "outputs": [
    {
     "name": "stdout",
     "output_type": "stream",
     "text": [
      "1068.0\n"
     ]
    }
   ],
   "source": [
    "confidence = 0.95\n",
    "e=0.03\n",
    "p=0.5\n",
    "n=p*(1-p)*(stats.norm.ppf(confidence+(1-confidence)/2)/e)**2\n",
    "print(np.ceil(n))"
   ]
  },
  {
   "cell_type": "code",
   "execution_count": 74,
   "metadata": {},
   "outputs": [
    {
     "name": "stdout",
     "output_type": "stream",
     "text": [
      "709.0\n"
     ]
    }
   ],
   "source": [
    "confidence = 0.95\n",
    "e=0.03\n",
    "p=0.21\n",
    "n=p*(1-p)*(stats.norm.ppf(confidence+(1-confidence)/2)/e)**2\n",
    "print(np.ceil(n))"
   ]
  },
  {
   "cell_type": "markdown",
   "metadata": {},
   "source": [
    "#Q65"
   ]
  },
  {
   "cell_type": "code",
   "execution_count": 75,
   "metadata": {},
   "outputs": [
    {
     "name": "stdout",
     "output_type": "stream",
     "text": [
      "The proportion of employees that do not use the ATM is 25.0%\n"
     ]
    },
    {
     "data": {
      "text/html": [
       "<div>\n",
       "<style scoped>\n",
       "    .dataframe tbody tr th:only-of-type {\n",
       "        vertical-align: middle;\n",
       "    }\n",
       "\n",
       "    .dataframe tbody tr th {\n",
       "        vertical-align: top;\n",
       "    }\n",
       "\n",
       "    .dataframe thead th {\n",
       "        text-align: right;\n",
       "    }\n",
       "</style>\n",
       "<table border=\"1\" class=\"dataframe\">\n",
       "  <thead>\n",
       "    <tr style=\"text-align: right;\">\n",
       "      <th></th>\n",
       "      <th>Use_per_month</th>\n",
       "      <th>Frequency</th>\n",
       "    </tr>\n",
       "  </thead>\n",
       "  <tbody>\n",
       "    <tr>\n",
       "      <th>0</th>\n",
       "      <td>0</td>\n",
       "      <td>25</td>\n",
       "    </tr>\n",
       "    <tr>\n",
       "      <th>1</th>\n",
       "      <td>1</td>\n",
       "      <td>30</td>\n",
       "    </tr>\n",
       "    <tr>\n",
       "      <th>2</th>\n",
       "      <td>2</td>\n",
       "      <td>20</td>\n",
       "    </tr>\n",
       "    <tr>\n",
       "      <th>3</th>\n",
       "      <td>3</td>\n",
       "      <td>10</td>\n",
       "    </tr>\n",
       "    <tr>\n",
       "      <th>4</th>\n",
       "      <td>4</td>\n",
       "      <td>10</td>\n",
       "    </tr>\n",
       "    <tr>\n",
       "      <th>5</th>\n",
       "      <td>5</td>\n",
       "      <td>5</td>\n",
       "    </tr>\n",
       "  </tbody>\n",
       "</table>\n",
       "</div>"
      ],
      "text/plain": [
       "   Use_per_month  Frequency\n",
       "0              0         25\n",
       "1              1         30\n",
       "2              2         20\n",
       "3              3         10\n",
       "4              4         10\n",
       "5              5          5"
      ]
     },
     "execution_count": 75,
     "metadata": {},
     "output_type": "execute_result"
    }
   ],
   "source": [
    "use = [0,1,2,3,4,5]\n",
    "freq = [25,30,20,10,10,5]\n",
    "\n",
    "df = pd.DataFrame({'Use_per_month':use,'Frequency':freq})\n",
    "print(f'The proportion of employees that do not use the ATM is {df['Frequency'][0]/np.sum(df['Frequency'])*100}%')\n",
    "df"
   ]
  },
  {
   "cell_type": "code",
   "execution_count": 76,
   "metadata": {},
   "outputs": [
    {
     "name": "stdout",
     "output_type": "stream",
     "text": [
      "(0.1651310699442871, 0.3348689300557129)\n"
     ]
    }
   ],
   "source": [
    "p = df['Frequency'][0]/np.sum(df['Frequency'])\n",
    "confidence = 0.95\n",
    "z=stats.norm.ppf(confidence + (1-confidence)/2)\n",
    "moe = z*np.sqrt(p*(1-p)/100)\n",
    "print((p-moe,p+moe))"
   ]
  },
  {
   "cell_type": "code",
   "execution_count": 77,
   "metadata": {},
   "outputs": [
    {
     "name": "stdout",
     "output_type": "stream",
     "text": [
      "The average number of transactions made by the employees is 1.65\n"
     ]
    }
   ],
   "source": [
    "print(f'The average number of transactions made by the employees is {np.sum(df['Use_per_month']*df['Frequency'])/sum(df['Frequency'])}')"
   ]
  },
  {
   "cell_type": "code",
   "execution_count": 78,
   "metadata": {},
   "outputs": [],
   "source": [
    "mean = np.sum(df['Use_per_month']*df['Frequency'])/sum(df['Frequency'])\n",
    "var = np.sum(np.square(df['Use_per_month']-mean)*df['Frequency'])/100\n",
    "std=var**0.5\n",
    "confidence = 0.95\n",
    "z=stats.norm.ppf(confidence + (1-confidence)/2)\n",
    "moe = z*std/np.sqrt(100)"
   ]
  },
  {
   "cell_type": "code",
   "execution_count": 79,
   "metadata": {},
   "outputs": [
    {
     "name": "stdout",
     "output_type": "stream",
     "text": [
      "(1.3641205911397822, 1.9358794088602176)\n"
     ]
    }
   ],
   "source": [
    "print((mean-moe,mean+moe))"
   ]
  },
  {
   "cell_type": "code",
   "execution_count": 80,
   "metadata": {},
   "outputs": [
    {
     "name": "stdout",
     "output_type": "stream",
     "text": [
      "(0.3430205989421221, 0.45697940105787793)\n"
     ]
    }
   ],
   "source": [
    "N=200\n",
    "n=80\n",
    "p=n/N\n",
    "confidence=0.90\n",
    "z = stats.norm.ppf(confidence + (1-confidence)/2)\n",
    "moe = z*np.sqrt(p*(1-p)/N)\n",
    "print((p-moe,p+moe))"
   ]
  },
  {
   "cell_type": "code",
   "execution_count": 81,
   "metadata": {},
   "outputs": [
    {
     "name": "stdout",
     "output_type": "stream",
     "text": [
      "(105.84228852695097, 114.15771147304903)\n"
     ]
    }
   ],
   "source": [
    "mean=110\n",
    "std=30\n",
    "confidence=0.95\n",
    "n=200\n",
    "\n",
    "z = stats.norm.ppf(confidence + (1-confidence)/2)\n",
    "moe = z*(std/np.sqrt(n))\n",
    "print((mean-moe,mean+moe))"
   ]
  },
  {
   "cell_type": "code",
   "execution_count": 82,
   "metadata": {},
   "outputs": [
    {
     "name": "stdout",
     "output_type": "stream",
     "text": [
      "865.0\n"
     ]
    }
   ],
   "source": [
    "confidence = 0.95\n",
    "e=0.02\n",
    "p=0.1\n",
    "n=p*(1-p)*(stats.norm.ppf(confidence+(1-confidence)/2)/e)**2\n",
    "print(np.ceil(n))"
   ]
  },
  {
   "cell_type": "code",
   "execution_count": null,
   "metadata": {},
   "outputs": [],
   "source": []
  }
 ],
 "metadata": {
  "kernelspec": {
   "display_name": "Python 3",
   "language": "python",
   "name": "python3"
  },
  "language_info": {
   "codemirror_mode": {
    "name": "ipython",
    "version": 3
   },
   "file_extension": ".py",
   "mimetype": "text/x-python",
   "name": "python",
   "nbconvert_exporter": "python",
   "pygments_lexer": "ipython3",
   "version": "3.12.1"
  }
 },
 "nbformat": 4,
 "nbformat_minor": 2
}
